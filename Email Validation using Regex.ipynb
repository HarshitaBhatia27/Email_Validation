{
 "cells": [
  {
   "cell_type": "markdown",
   "id": "1be370b4",
   "metadata": {},
   "source": [
    "Regurlar Expression.\n",
    "\n",
    "\n",
    "A RegEx, or Regular Expression, is a sequence of characters that forms a search pattern.\n",
    "\n",
    "RegEx can be used to check if a string contains the specified search pattern."
   ]
  },
  {
   "cell_type": "markdown",
   "id": "84356a2d",
   "metadata": {},
   "source": [
    "\n",
    "\n",
    "Email conditions:\n",
    "1. a-z lower case alphabets\n",
    "2. digits from 0-9\n",
    "3. _ and . are allowed (only one)\n",
    "4. @ is must (only 1).\n",
    "5. position of . after @ should be at 2nd and 3rd position from behind"
   ]
  },
  {
   "cell_type": "markdown",
   "id": "6fcbcd5d",
   "metadata": {},
   "source": [
    "In regex :\n",
    "\n",
    " ^ means first char (starting)\n",
    " \n",
    " \\ is used to search in regex.  + add conditions.\n",
    " \n",
    "? True if the value is 1, else False\n",
    "\n",
    " \\w search char\n",
    " \n",
    " {} is used to pass condition\n",
    " \n",
    " $ ends with"
   ]
  },
  {
   "cell_type": "code",
   "execution_count": 7,
   "id": "eab103ac",
   "metadata": {},
   "outputs": [],
   "source": [
    "import re #importing regex "
   ]
  },
  {
   "cell_type": "code",
   "execution_count": 5,
   "id": "a8d35643",
   "metadata": {},
   "outputs": [
    {
     "name": "stdout",
     "output_type": "stream",
     "text": [
      "Enter the email: harshita@gmail.com\n"
     ]
    }
   ],
   "source": [
    "email_condition = \"^[a-z]+[\\._]?[a-z 0-9]+[@]\\w+[.]\\w{2,3}$\"\n",
    "user_email = input(\"Enter the email: \")"
   ]
  },
  {
   "cell_type": "code",
   "execution_count": 6,
   "id": "026e6e76",
   "metadata": {},
   "outputs": [
    {
     "name": "stdout",
     "output_type": "stream",
     "text": [
      "Email is correct\n"
     ]
    }
   ],
   "source": [
    "if re.search(email_condition, user_email):\n",
    "    print(\"Email is correct\")\n",
    "else: \n",
    "    print(\"Invalid Email. Check again\")"
   ]
  },
  {
   "cell_type": "code",
   "execution_count": null,
   "id": "ca56f6d6",
   "metadata": {},
   "outputs": [],
   "source": []
  }
 ],
 "metadata": {
  "kernelspec": {
   "display_name": "Python 3 (ipykernel)",
   "language": "python",
   "name": "python3"
  },
  "language_info": {
   "codemirror_mode": {
    "name": "ipython",
    "version": 3
   },
   "file_extension": ".py",
   "mimetype": "text/x-python",
   "name": "python",
   "nbconvert_exporter": "python",
   "pygments_lexer": "ipython3",
   "version": "3.8.8"
  }
 },
 "nbformat": 4,
 "nbformat_minor": 5
}
